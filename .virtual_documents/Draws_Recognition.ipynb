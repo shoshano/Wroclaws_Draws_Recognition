





!pip install ultralytics


!pip install roboflow





import torch
import ultralytics
from roboflow import Roboflow
from IPython.display import Image, display
from IPython import display
import os


torch.cuda.is_available()


torch.cuda.get_device_name(0)


import gc
gc.collect()
torch.cuda.empty_cache()


ultralytics.checks()


display.clear_output()


!nvidia-smi





HOME = os.getcwd()
print(HOME)


!mkdir datasets63


%cd datasets63


!pwd





rf = Roboflow(api_key="9zbTgwMWBvZgonLi9Jla")
project = rf.workspace("krasnalewroclawskie-envp3").project("krasnele_wro-g63lz")
version = project.version(4)
dataset = version.download("yolov8")



%cd ../








!yolo task=detect mode=train model=/home/zuza/zuza/studia/projekt_krasnale/Wroclaws_Draws_Recognition/krasnale1.pt data=/home/zuza/zuza/studia/projekt_krasnale/Wroclaws_Draws_Recognition/datasets63/Krasnele_Wro-4/data.yaml epochs=60 imgsz=512 name=trein60epochs





!yolo task=detect mode=val model=/home/zuza/zuza/studia/projekt_krasnale/Wroclaws_Draws_Recognition/runs/detect/trein60epch63class/weights/best.pt data=/home/zuza/zuza/studia/projekt_krasnale/Wroclaws_Draws_Recognition/datasets63/Krasnele_Wro-4/data.yaml





!yolo task=detect mode=predict model=/home/zuza/zuza/studia/projekt_krasnale/Wroclaws_Draws_Recognition/runs/detect/trein60epch63class/weights/best.pt conf=0.7 source=/home/zuza/zuza/studia/projekt_krasnale/Wroclaws_Draws_Recognition/datasets63/Krasnele_Wro-4/test/images





project.version(4).deploy(model_type="yolov8", model_path=f"{HOME}/runs/detect/trein60epch63class/")





Image(filename=f'/home/zuza/zuza/studia/projekt_krasnale/Wroclaws_Draws_Recognition/runs/detect/trein60epch63class/confusion_matrix.png', width=1500)


!pwd


Image(filename=f'{HOME}/runs/detect/trein60epch63class/results.png', width=1500)


Image(filename=f'{HOME}/runs/detect/trein60epch63class/val_batch2_pred.jpg', width=1500)


import glob
from IPython.display import Image, display

for image_path in glob.glob(f'{HOME}/runs/detect/predict3/*.jpg')[31:50]:
      display(Image(filename=image_path, width=600))
      print("\n")


!yolo task=detect mode=predict model=/home/zuza/zuza/studia/projekt_krasnale/Wroclaws_Draws_Recognition/runs/detect/trein60epochs/weights/best.pt conf=0.7 source=/home/zuza/zuza/studia/projekt_krasnale/Wroclaws_Draws_Recognition/krasnal1.jpg



